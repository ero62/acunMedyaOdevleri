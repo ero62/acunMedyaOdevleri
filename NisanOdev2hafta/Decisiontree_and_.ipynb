{
 "cells": [
  {
   "cell_type": "markdown",
   "id": "1ba08091-3753-450d-8e54-36d446727521",
   "metadata": {},
   "source": [
    "# Random forest"
   ]
  },
  {
   "cell_type": "markdown",
   "id": "e9ed1605-43f5-41b8-9ac3-349c34ef7476",
   "metadata": {},
   "source": [
    "## random tree nedir\n",
    "Leo Breiman ve Adele Cutler tarafından ticari marka olarak tescillenmiş, yaygın olarak kullanılan bir makine öğrenme algoritmasıdır ve tek bir sonuca ulaşmak için birden fazla karar ağacının çıktısını birleştirir. Kullanım kolaylığı ve esnekliği, hem sınıflandırma hem de regresyon problemlerini ele aldığı için benimsenmesini sağlamıştır.\n",
    "Random Forest algoritması, birçok karar ağacı (decision tree) oluşturularak çalışır. Her bir ağaç, veri setinin rastgele seçilmiş bir alt kümesi kullanılarak eğitilir. Bu yönteme \"bagging\" adı verilir. Model tahmin yaparken, sınıflandırma problemlerinde ağaçların çoğunluk oyu esas alınır; yani hangi sınıf daha fazla seçilmişse sonuç o sınıf olarak belirlenir. Regresyon problemlerinde ise, ağaçların yaptığı tahminlerin ortalaması alınarak nihai sonuç elde edilir.\n",
    "\n"
   ]
  },
  {
   "cell_type": "markdown",
   "id": "e8a366d5-ef51-4104-b246-1456f93f9a31",
   "metadata": {},
   "source": [
    "### özelikleri:\n",
    "Aşırı öğrenmeyi\n",
    "\n",
    "Hem sınıflandırma hem de regresyon problemlerinde kullanılabilir.\n",
    "\n",
    "Değişken önemi analizi yapılabilir."
   ]
  },
  {
   "cell_type": "markdown",
   "id": "55331082-67f6-4388-978f-746f4407b327",
   "metadata": {},
   "source": [
    "### Karar Ağacı\n"
   ]
  },
  {
   "cell_type": "markdown",
   "id": "9884a53c-c57b-4dec-99e1-1ca55e6427eb",
   "metadata": {},
   "source": [
    "## karar ağacı nedir \n",
    "kararların ve bunların olası sonuçlarının ağac benzeri bir model kullanan bir karar destek yinelemeli bölümlendirme yapısısıdır. yalnızca koşulu kontrol yapısının içeren bir algoritma yı görüntülemenin bir yoludur . amacı veri özeliklerinden çıkarılan basit karar kuralları öğreneerek hedef değişkenini değerini tahmin eden bir model oluşturmaktır .\n",
    "en üste düğüm adı verilen ana bir soruyla başlayan ve daha sonra olası sonuçlara doğru dalaanan hiyeraşik bir ağaç yapısınıa sahipitir "
   ]
  },
  {
   "cell_type": "markdown",
   "id": "d9ac2133-c1ef-42b2-840d-9891b7320d3f",
   "metadata": {},
   "source": [
    "# özelikleri \n",
    "kolay yorumlanır \n",
    "hızlı çalışır \n",
    "aşırı öğrenme \n",
    "sınıflandırma ve regresyonda kulanıla bilir"
   ]
  }
 ],
 "metadata": {
  "kernelspec": {
   "display_name": "Python 3 (ipykernel)",
   "language": "python",
   "name": "python3"
  },
  "language_info": {
   "codemirror_mode": {
    "name": "ipython",
    "version": 3
   },
   "file_extension": ".py",
   "mimetype": "text/x-python",
   "name": "python",
   "nbconvert_exporter": "python",
   "pygments_lexer": "ipython3",
   "version": "3.12.9"
  }
 },
 "nbformat": 4,
 "nbformat_minor": 5
}
