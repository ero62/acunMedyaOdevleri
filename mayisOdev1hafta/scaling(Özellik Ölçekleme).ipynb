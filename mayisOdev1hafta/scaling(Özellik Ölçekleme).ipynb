{
 "cells": [
  {
   "cell_type": "markdown",
   "id": "5330af07-aed1-4513-9423-3549b24bd0e3",
   "metadata": {},
   "source": [
    "#  Scaling \n",
    "     veri kümenizdeki sayısal özellikleri belirli bir aralığa (genellikle 0–1 veya -1–1) dönüştürme işlemidir. Bu işlem, algoritmaların daha verimli ve doğru çalışmasını sağlar.\n",
    "     amaç ,tüm değişkenleri benzer değer aralıklarına sahip olmasıdır. değer aralığı maks ve min değerler arasındaki farktır\n",
    "     Genel olarak, ölçekleme teknikleri değişkenleri sabit bir ölçekleme faktörüne böler. Bu nedenle, çoğu ölçekleme yöntemi değişken dağılımının şeklini değiştirmez. Dağılım şeklini değiştirmek istiyorsanız,  varyans sabitleyici dönüşümler uygulamanız gerekir .\n",
    "### standardizasyon\n",
    "### maks ve min değerler ile ölçekleme \n",
    "### medyan ve sağlam ölçeklenme \n",
    "\n",
    "## neden özelik ölçekleme gerekli:\n",
    "    - farklı ölçeklerdeki veriler modelin dengesini bozer \n",
    "    - gradient descent gibi optimizasyon yöntemleri daha hızlı ve stabil çalışır \n",
    "    - mesafeye dayalı algoritmalar doğru sonuç veriri \n",
    "    - modelin eğitim sürecinde  ağırlıklar güncelemeleri daha tutarlı olur "
   ]
  },
  {
   "cell_type": "code",
   "execution_count": 2,
   "id": "8eb8e143-1879-4cc9-be8f-a1651e4bf8c9",
   "metadata": {},
   "outputs": [
    {
     "name": "stdout",
     "output_type": "stream",
     "text": [
      "   CustomerID  Gender  Age  Annual Income (k$)  Spending Score (1-100)  \\\n",
      "0           1    Male   19                  15                      39   \n",
      "1           2    Male   21                  15                      81   \n",
      "2           3  Female   20                  16                       6   \n",
      "3           4  Female   23                  16                      77   \n",
      "4           5  Female   31                  17                      40   \n",
      "\n",
      "   Age_minmax  Income_minmax  Score_minmax   Age_std  Income_std  Score_std  \n",
      "0    0.019231       0.000000      0.387755 -1.424569   -1.738999  -0.434801  \n",
      "1    0.057692       0.000000      0.816327 -1.281035   -1.738999   1.195704  \n",
      "2    0.038462       0.008197      0.051020 -1.352802   -1.700830  -1.715913  \n",
      "3    0.096154       0.008197      0.775510 -1.137502   -1.700830   1.040418  \n",
      "4    0.250000       0.016393      0.397959 -0.563369   -1.662660  -0.395980  \n"
     ]
    }
   ],
   "source": [
    "import pandas as pd\n",
    "from sklearn.preprocessing import MinMaxScaler, StandardScaler\n",
    "\n",
    "df = pd.read_csv(\"Mall_Customers.csv\")\n",
    "\n",
    "numeric_df = df[[\"Age\", \"Annual Income (k$)\", \"Spending Score (1-100)\"]]\n",
    "\n",
    "\n",
    "minmax_scaler = MinMaxScaler()\n",
    "scaled_minmax = minmax_scaler.fit_transform(numeric_df)\n",
    "scaled_minmax_df = pd.DataFrame(scaled_minmax, columns=[\"Age_minmax\", \"Income_minmax\", \"Score_minmax\"])\n",
    "\n",
    "\n",
    "standard_scaler = StandardScaler()\n",
    "scaled_standard = standard_scaler.fit_transform(numeric_df)\n",
    "scaled_standard_df = pd.DataFrame(scaled_standard, columns=[\"Age_std\", \"Income_std\", \"Score_std\"])\n",
    "\n",
    "\n",
    "final_df = pd.concat([df, scaled_minmax_df, scaled_standard_df], axis=1)\n",
    "\n",
    "\n",
    "final_df.to_csv(\"Mall_Customers_scaled.csv\", index=False)\n",
    "\n",
    "print(final_df.head())\n"
   ]
  },
  {
   "cell_type": "code",
   "execution_count": null,
   "id": "1d34e3f0-9ddb-4eb7-a252-d9abc0e736de",
   "metadata": {},
   "outputs": [],
   "source": []
  }
 ],
 "metadata": {
  "kernelspec": {
   "display_name": "Python 3 (ipykernel)",
   "language": "python",
   "name": "python3"
  },
  "language_info": {
   "codemirror_mode": {
    "name": "ipython",
    "version": 3
   },
   "file_extension": ".py",
   "mimetype": "text/x-python",
   "name": "python",
   "nbconvert_exporter": "python",
   "pygments_lexer": "ipython3",
   "version": "3.10.16"
  }
 },
 "nbformat": 4,
 "nbformat_minor": 5
}
