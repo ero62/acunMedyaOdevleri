{
 "cells": [
  {
   "cell_type": "markdown",
   "id": "f7343059-ea57-454b-9db0-0e2dc012be91",
   "metadata": {},
   "source": [
    "# backpropagation \n",
    "## backpropagation nedir\n",
    "    yapay sinir ağı modelinin eğitilmesi sırasında kullanılan bir optimizasyon algoritmasıdır. Temel amacı, ağın yaptığı hataları analiz ederek ağırlıkları güncellemek ve böylece modelin doğruluğunu artırmaktır. Bu süreç, genellikle denetimli öğrenme (supervised learning) kapsamında uygulanır.\n",
    "## sürecin işleyişi \n",
    "    1. İleri Yayılım (Forward Propagation)\n",
    "Veri, sinir ağına giriş katmanından girer ve ağırlıklar aracılığıyla katmanlar arasında ilerleyerek bir çıktı üretir. Bu süreç, verilerin işlenip, modelin mevcut durumu hakkında bir tahminde bulunmasıdır. Örneğin, bir dil modelinde, giriş cümlesine karşılık gelen bir çıktı metni üretilir. Ancak bu aşamada, modelin ürettiği sonuç, doğru sonuca kıyasla hatalı olabilir.\n",
    "\n",
    "    2. Hata Hesaplama (Error Calculation)\n",
    "Modelin ürettiği çıktı ile doğru cevap (etiket) arasındaki fark hesaplanır. Bu fark, modelin yaptığı hatayı temsil eder. Genellikle hata, Loss Function (kayıp fonksiyonu) adı verilen bir formülle hesaplanır. En yaygın kullanılan kayıp fonksiyonlarından biri Mean Squared Error (MSE)'dir.\n",
    "\n",
    "    3. Hata Geri Yayılımı (Backpropagation)\n",
    "Bu adımda, hesaplanan hata, ağın son katmanından başlayarak önceki katmanlarına doğru geri yayılır. Bu süreçte, her katmandaki nöronlar arasındaki ağırlıkların ne kadar değişmesi gerektiği belirlenir. Hata, zincir kuralı kullanılarak katmanlar boyunca hesaplanır ve her bağlantının ne kadar katkıda bulunduğu bulunur.\n",
    "    \n",
    "    4. Ağırlık Güncelleme (Weight Update)\n",
    "Son adımda, hata geri yayılımı tamamlandıktan sonra, her bağlantının ağırlığı güncellenir. Bu güncelleme işlemi, gradient descent adı verilen optimizasyon algoritması ile yapılır. Gradient descent, kayıp fonksiyonunun eğimini hesaplayarak, ağırlıkların hangi yönde değişmesi gerektiğini belirler ve adım adım optimize eder. Böylece, model hatayı minimize edecek şekilde öğrenmeye başlar.\n",
    "\n",
    "## optimizer nedir \n",
    "\n",
    "yapay zeka ve makina öğrenmesi modelerinde, optimizer(optimizasyon algoritması), modelin doğruluğunu artırmak için kullanılan bir araçtır. \n",
    "modelin yaptığı hatayı ölcen kayıp(loss) fonksiyonunu en aza indirmek için, modeldeki ağırlıkları ve bias değerlerini günceller. \n",
    "Bu güncelleme işlemi, backpropagation (geri yayılım) algoritmasından gelen bilgiye dayanır. Yani optimizer, bu hatayı nasıl azaltabileceğini öğrenir ve modelin parametrelerini buna göre değiştirir. \n",
    "\n",
    "## optimizer türleri \n",
    "\n",
    "1. SGD (Stochastic Gradient Descent)\n",
    "2. Momentum\n",
    "3. Adagrad\n",
    "4. RMSprop\n",
    "5. Adam"
   ]
  },
  {
   "cell_type": "code",
   "execution_count": null,
   "id": "680f6986-dc56-4433-8ce5-de6b43241e83",
   "metadata": {},
   "outputs": [],
   "source": []
  }
 ],
 "metadata": {
  "kernelspec": {
   "display_name": "Python 3 (ipykernel)",
   "language": "python",
   "name": "python3"
  },
  "language_info": {
   "codemirror_mode": {
    "name": "ipython",
    "version": 3
   },
   "file_extension": ".py",
   "mimetype": "text/x-python",
   "name": "python",
   "nbconvert_exporter": "python",
   "pygments_lexer": "ipython3",
   "version": "3.10.16"
  }
 },
 "nbformat": 4,
 "nbformat_minor": 5
}
